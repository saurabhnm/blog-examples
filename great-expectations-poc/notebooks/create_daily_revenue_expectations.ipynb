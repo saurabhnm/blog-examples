{
 "cells": [
  {
   "cell_type": "code",
   "execution_count": 1,
   "metadata": {},
   "outputs": [
    {
     "name": "stderr",
     "output_type": "stream",
     "text": [
      "/Users/saurabh/.pyenv/versions/3.6.9/lib/python3.6/site-packages/pandas/compat/__init__.py:85: UserWarning: Could not import the lzma module. Your installed Python is incomplete. Attempting to use lzma compression will result in a RuntimeError.\n",
      "  warnings.warn(msg)\n"
     ]
    },
    {
     "name": "stdout",
     "output_type": "stream",
     "text": [
      "2019-12-28T15:44:46-0800 - INFO - Great Expectations logging enabled at INFO level by JupyterUX module.\n"
     ]
    }
   ],
   "source": [
    "import great_expectations as ge\n",
    "import great_expectations.jupyter_ux\n",
    "import pandas as pd"
   ]
  },
  {
   "cell_type": "code",
   "execution_count": 2,
   "metadata": {},
   "outputs": [
    {
     "name": "stdout",
     "output_type": "stream",
     "text": [
      "2019-12-28T15:44:53-0800 - INFO - Using project config: /Users/saurabh/Documents/Work/codebase/python_ws/ge_blog_project/great_expectations/great_expectations.yml\n"
     ]
    }
   ],
   "source": [
    "context = ge.data_context.DataContext()"
   ]
  },
  {
   "cell_type": "code",
   "execution_count": 3,
   "metadata": {},
   "outputs": [
    {
     "name": "stdout",
     "output_type": "stream",
     "text": [
      "Inspecting your data sources. This may take a moment...\n"
     ]
    },
    {
     "data": {
      "text/html": [
       "<h2 style='margin: 0'>Datasource: dbt_analytics (SqlAlchemyDatasource)</h2>generator: default (TableGenerator)<h3 style='margin: 0.2em 0'>Data Assets Found:</h3>\n",
       "    <style type='text/css'>\n",
       "    ul.data-assets {\n",
       "        margin-top: 0px;\n",
       "    }\n",
       "    ul.data-assets li {\n",
       "        line-height: 1.2em;\n",
       "        list-style-type: circle;\n",
       "    }\n",
       "    ul.data-assets li span.expectation-suite {\n",
       "        background: #ddd;\n",
       "    }\n",
       "    </style>\n",
       "    <ul class='data-assets'><li>DE_DEV.stadium</li><li>DE_DEV.survey_page_question_answers</li><li>DE_DEV.survey_page_questions</li><li>DE_DEV.survey_pages</li><li>DE_DEV.survey_responses</li><li>DE_DEV.surveys</li><li>SURVEY_MONKEY_DB.BATCH_JOB_EXECUTION</li><li>SURVEY_MONKEY_DB.BATCH_JOB_EXECUTION_CONTEXT</li><li>SURVEY_MONKEY_DB.BATCH_JOB_EXECUTION_PARAMS</li><li>SURVEY_MONKEY_DB.BATCH_JOB_EXECUTION_SEQ</li><li>SURVEY_MONKEY_DB.BATCH_JOB_INSTANCE</li><li>SURVEY_MONKEY_DB.BATCH_JOB_SEQ</li><li>SURVEY_MONKEY_DB.BATCH_STEP_EXECUTION</li><li>SURVEY_MONKEY_DB.BATCH_STEP_EXECUTION_CONTEXT</li><li>SURVEY_MONKEY_DB.BATCH_STEP_EXECUTION_SEQ</li><li>SURVEY_MONKEY_DB.surveys</li><li>cloud_native_batch.BATCH_JOB_EXECUTION</li><li>cloud_native_batch.BATCH_JOB_EXECUTION_CONTEXT</li><li>cloud_native_batch.BATCH_JOB_EXECUTION_PARAMS</li><li>cloud_native_batch.BATCH_JOB_EXECUTION_SEQ</li><li>cloud_native_batch.BATCH_JOB_INSTANCE</li><li>cloud_native_batch.BATCH_JOB_SEQ</li><li>cloud_native_batch.BATCH_STEP_EXECUTION</li><li>cloud_native_batch.BATCH_STEP_EXECUTION_CONTEXT</li><li>cloud_native_batch.BATCH_STEP_EXECUTION_SEQ</li><li>cloud_native_batch.CUSTOMER</li><li>daily_revenue</li><ul><li><span class='expectation-suite'>Expectation Suite</span>: BasicDatasetProfiler</li></ul><li>dim_users</li><li>event_builder.DATABASECHANGELOG</li><li>event_builder.DATABASECHANGELOGLOCK</li><li>event_builder.clickstream_events</li><li>event_builder.event_properties</li><li>event_builder.event_violations</li><li>event_builder.events</li><li>event_builder.tracking_plans</li><li>event_builder_sb.event_properties</li><li>event_builder_sb.events</li><li>event_builder_sb.tracking_plans</li><li>partner_listing_db.DATABASECHANGELOG</li><li>partner_listing_db.DATABASECHANGELOGLOCK</li><li>partner_listing_db.ebay_posting</li><li>partner_listing_db.items</li><li>partner_listing_db.partner_errors</li><li>partner_listing_db.partner_events</li><li>partner_listing_db.partner_item_identifiers</li><li>partner_listing_db.partner_item_transactions</li><li>partner_listing_db.partner_items</li><li>partner_listing_db.partner_order_addresses</li><li>partner_listing_db.partner_order_errors</li><li>partner_listing_db.partner_order_lines</li><li>partner_listing_db.partner_order_payments</li><li>partner_listing_db.partner_order_refunds</li><li>partner_listing_db.partner_order_return_headers</li><li>partner_listing_db.partner_order_return_lines</li><li>partner_listing_db.partner_orders</li><li>partner_listing_db.partners</li><li>partner_listing_db.tup_items</li><li>pl_test.DATABASECHANGELOG</li><li>pl_test.DATABASECHANGELOGLOCK</li><li>pl_test.ar_internal_metadata</li><li>pl_test.ebay_posting</li><li>pl_test.items</li><li>pl_test.partner_events</li><li>pl_test.partner_items</li><li>pl_test.partner_order_addresses</li><li>pl_test.partner_order_lines</li><li>pl_test.partner_order_payments</li><li>pl_test.partner_orders</li><li>pl_test.partners</li><li>pl_test.schema_migrations</li><li>pl_test.tup_items</li><li>spring_batch.BATCH_JOB_EXECUTION</li><li>spring_batch.BATCH_JOB_EXECUTION_CONTEXT</li><li>spring_batch.BATCH_JOB_EXECUTION_PARAMS</li><li>spring_batch.BATCH_JOB_EXECUTION_SEQ</li><li>spring_batch.BATCH_JOB_INSTANCE</li><li>spring_batch.BATCH_JOB_SEQ</li><li>spring_batch.BATCH_STEP_EXECUTION</li><li>spring_batch.BATCH_STEP_EXECUTION_CONTEXT</li><li>spring_batch.BATCH_STEP_EXECUTION_SEQ</li><li>spring_batch.account</li><li>spring_batch.customer</li><li>spring_batch.customer_account</li><li>spring_batch.transaction</li><li>tup-listing-service_development.ar_internal_metadata</li><li>tup-listing-service_development.items</li><li>tup-listing-service_development.partner_item_identifiers</li><li>tup-listing-service_development.partner_item_transactions</li><li>tup-listing-service_development.partner_items</li><li>tup-listing-service_development.partner_order_addresses</li><li>tup-listing-service_development.partner_order_lines</li><li>tup-listing-service_development.partner_order_payments</li><li>tup-listing-service_development.partner_order_refunds</li><li>tup-listing-service_development.partner_order_return_headers</li><li>tup-listing-service_development.partner_order_return_lines</li><li>tup-listing-service_development.partner_orders</li><li>tup-listing-service_development.partners</li><li>tup-listing-service_development.schema_migrations</li><li>tup_fb.add_to_cart_events</li><li>tup_fb.adset_audience_locations</li><li>tup_fb.adset_audiences</li><li>tup_fb.adset_business_notifications</li><li>tup_fb.adset_insight_avg_costs</li><li>tup_fb.adset_insight_breakdowns</li><li>tup_fb.adset_insight_clicks</li><li>tup_fb.adset_insight_conversions</li><li>tup_fb.adset_insight_medias</li><li>tup_fb.adset_insight_mobile_apps</li><li>tup_fb.adset_insight_page_posts</li><li>tup_fb.adset_insight_performances</li><li>tup_fb.adset_insight_website_events</li><li>tup_fb.adset_insights</li><li>tup_fb.adset_promoted_objects</li><li>tup_fb.adsets</li><li>tup_fb.all_purchased_users</li><li>tup_fb.browse_abandonment_users</li><li>tup_fb.campaigns</li><li>tup_fb.custom_audience_events</li><li>tup_fb.custom_audience_scores</li><li>tup_fb.custom_audience_sequence</li><li>tup_fb.custom_audience_user_scores</li><li>tup_fb.delighted_users</li><li>tup_fb.np_postcard_events</li><li>tup_fb.postcard_event_application_subtypes</li><li>tup_fb.postcard_event_audience_control_groups</li><li>tup_fb.postcard_events</li><li>tup_fb.prospect_postcard_events</li><li>tup_fb.scheduled_jobs</li></ul>"
      ],
      "text/plain": [
       "<IPython.core.display.HTML object>"
      ]
     },
     "metadata": {},
     "output_type": "display_data"
    }
   ],
   "source": [
    "great_expectations.jupyter_ux.list_available_data_asset_names(context)"
   ]
  },
  {
   "cell_type": "code",
   "execution_count": 4,
   "metadata": {},
   "outputs": [
    {
     "data": {
      "text/plain": [
       "NormalizedDataAssetName(datasource='dbt_analytics', generator='default', generator_asset='daily_revenue')"
      ]
     },
     "execution_count": 4,
     "metadata": {},
     "output_type": "execute_result"
    }
   ],
   "source": [
    "data_asset_name = \"daily_revenue\" # TODO: replace with your value!\n",
    "normalized_data_asset_name = context.normalize_data_asset_name(data_asset_name)\n",
    "normalized_data_asset_name"
   ]
  },
  {
   "cell_type": "code",
   "execution_count": 5,
   "metadata": {},
   "outputs": [],
   "source": [
    "expectation_suite_name = \"failure\" # TODO: replace with your value!"
   ]
  },
  {
   "cell_type": "code",
   "execution_count": 6,
   "metadata": {},
   "outputs": [
    {
     "data": {
      "text/plain": [
       "{'data_asset_name': 'dbt_analytics/default/daily_revenue',\n",
       " 'expectation_suite_name': 'failure',\n",
       " 'meta': {'great_expectations.__version__': '0.8.6'},\n",
       " 'expectations': []}"
      ]
     },
     "execution_count": 6,
     "metadata": {},
     "output_type": "execute_result"
    }
   ],
   "source": [
    "context.create_expectation_suite(data_asset_name=data_asset_name, expectation_suite_name=expectation_suite_name, overwrite_existing=True)"
   ]
  },
  {
   "cell_type": "code",
   "execution_count": 9,
   "metadata": {},
   "outputs": [
    {
     "name": "stdout",
     "output_type": "stream",
     "text": [
      "2019-12-28T15:48:04-0800 - INFO - \t0 expectation(s) included in expectation_suite.\n"
     ]
    },
    {
     "data": {
      "text/html": [
       "<div>\n",
       "<style scoped>\n",
       "    .dataframe tbody tr th:only-of-type {\n",
       "        vertical-align: middle;\n",
       "    }\n",
       "\n",
       "    .dataframe tbody tr th {\n",
       "        vertical-align: top;\n",
       "    }\n",
       "\n",
       "    .dataframe thead th {\n",
       "        text-align: right;\n",
       "    }\n",
       "</style>\n",
       "<table border=\"1\" class=\"dataframe\">\n",
       "  <thead>\n",
       "    <tr style=\"text-align: right;\">\n",
       "      <th></th>\n",
       "      <th>order_id</th>\n",
       "      <th>user_id</th>\n",
       "      <th>order_revenue_usd</th>\n",
       "      <th>order_type</th>\n",
       "      <th>load_date</th>\n",
       "    </tr>\n",
       "  </thead>\n",
       "  <tbody>\n",
       "    <tr>\n",
       "      <th>0</th>\n",
       "      <td>201912011</td>\n",
       "      <td>1001</td>\n",
       "      <td>200</td>\n",
       "      <td>online</td>\n",
       "      <td>2019-12-01</td>\n",
       "    </tr>\n",
       "    <tr>\n",
       "      <th>1</th>\n",
       "      <td>201912012</td>\n",
       "      <td>1002</td>\n",
       "      <td>250</td>\n",
       "      <td>online</td>\n",
       "      <td>2019-12-01</td>\n",
       "    </tr>\n",
       "  </tbody>\n",
       "</table>\n",
       "</div>"
      ],
      "text/plain": [
       "    order_id  user_id  order_revenue_usd order_type   load_date\n",
       "0  201912011     1001                200     online  2019-12-01\n",
       "1  201912012     1002                250     online  2019-12-01"
      ]
     },
     "execution_count": 9,
     "metadata": {},
     "output_type": "execute_result"
    }
   ],
   "source": [
    "batch_kwargs = {'query': \"SELECT * FROM daily_revenue WHERE load_date = '{}'\".format('2019-12-01')}\n",
    "batch = context.get_batch(normalized_data_asset_name, expectation_suite_name, batch_kwargs)\n",
    "batch.head()"
   ]
  },
  {
   "cell_type": "code",
   "execution_count": 10,
   "metadata": {},
   "outputs": [
    {
     "data": {
      "text/plain": [
       "{'query': \"SELECT * FROM daily_revenue WHERE load_date = '2019-12-01'\"}"
      ]
     },
     "execution_count": 10,
     "metadata": {},
     "output_type": "execute_result"
    }
   ],
   "source": [
    "batch.batch_kwargs"
   ]
  },
  {
   "cell_type": "code",
   "execution_count": 11,
   "metadata": {},
   "outputs": [
    {
     "data": {
      "text/plain": [
       "{'timestamp': 1577576884.9291992}"
      ]
     },
     "execution_count": 11,
     "metadata": {},
     "output_type": "execute_result"
    }
   ],
   "source": [
    "batch.batch_id"
   ]
  },
  {
   "cell_type": "code",
   "execution_count": 12,
   "metadata": {},
   "outputs": [
    {
     "data": {
      "text/plain": [
       "{'success': True,\n",
       " 'result': {'element_count': 2,\n",
       "  'unexpected_count': 0.0,\n",
       "  'unexpected_percent': 0.0,\n",
       "  'partial_unexpected_list': []}}"
      ]
     },
     "execution_count": 12,
     "metadata": {},
     "output_type": "execute_result"
    }
   ],
   "source": [
    "column_name = 'order_id'\n",
    "batch.expect_column_values_to_not_be_null(column_name)"
   ]
  },
  {
   "cell_type": "code",
   "execution_count": 16,
   "metadata": {},
   "outputs": [
    {
     "data": {
      "text/plain": [
       "{'success': True,\n",
       " 'result': {'element_count': 2,\n",
       "  'missing_count': 0.0,\n",
       "  'missing_percent': 0.0,\n",
       "  'unexpected_count': 0.0,\n",
       "  'unexpected_percent': 0.0,\n",
       "  'unexpected_percent_nonmissing': 0.0,\n",
       "  'partial_unexpected_list': []}}"
      ]
     },
     "execution_count": 16,
     "metadata": {},
     "output_type": "execute_result"
    }
   ],
   "source": [
    "batch.expect_column_values_to_be_in_set('order_type',['online','retail'])"
   ]
  },
  {
   "cell_type": "code",
   "execution_count": 18,
   "metadata": {},
   "outputs": [
    {
     "data": {
      "text/plain": [
       "{'success': True,\n",
       " 'result': {'element_count': 2,\n",
       "  'missing_count': 0.0,\n",
       "  'missing_percent': 0.0,\n",
       "  'unexpected_count': 0.0,\n",
       "  'unexpected_percent': 0.0,\n",
       "  'unexpected_percent_nonmissing': 0.0,\n",
       "  'partial_unexpected_list': []}}"
      ]
     },
     "execution_count": 18,
     "metadata": {},
     "output_type": "execute_result"
    }
   ],
   "source": [
    "batch.expect_column_values_to_be_between('order_revenue_usd',1,10000)"
   ]
  },
  {
   "cell_type": "code",
   "execution_count": 19,
   "metadata": {},
   "outputs": [
    {
     "name": "stdout",
     "output_type": "stream",
     "text": [
      "2019-12-28T15:57:51-0800 - INFO - \t3 expectation(s) included in expectation_suite. result_format settings filtered.\n"
     ]
    },
    {
     "data": {
      "text/plain": [
       "{'data_asset_name': 'dbt_analytics/default/daily_revenue',\n",
       " 'expectation_suite_name': 'failure',\n",
       " 'meta': {'great_expectations.__version__': '0.8.6'},\n",
       " 'expectations': [{'expectation_type': 'expect_column_values_to_not_be_null',\n",
       "   'kwargs': {'column': 'order_id'}},\n",
       "  {'expectation_type': 'expect_column_values_to_be_in_set',\n",
       "   'kwargs': {'column': 'order_type', 'value_set': ['online', 'retail']}},\n",
       "  {'expectation_type': 'expect_column_values_to_be_between',\n",
       "   'kwargs': {'column': 'order_revenue_usd',\n",
       "    'min_value': 1,\n",
       "    'max_value': 10000}}],\n",
       " 'data_asset_type': 'Dataset'}"
      ]
     },
     "execution_count": 19,
     "metadata": {},
     "output_type": "execute_result"
    }
   ],
   "source": [
    "batch.get_expectation_suite()"
   ]
  },
  {
   "cell_type": "code",
   "execution_count": 20,
   "metadata": {},
   "outputs": [
    {
     "name": "stdout",
     "output_type": "stream",
     "text": [
      "2019-12-28T15:58:02-0800 - INFO - \t3 expectation(s) included in expectation_suite. result_format settings filtered.\n"
     ]
    }
   ],
   "source": [
    "batch.save_expectation_suite()"
   ]
  },
  {
   "cell_type": "code",
   "execution_count": null,
   "metadata": {},
   "outputs": [],
   "source": []
  }
 ],
 "metadata": {
  "kernelspec": {
   "display_name": "Python 3",
   "language": "python",
   "name": "python3"
  },
  "language_info": {
   "codemirror_mode": {
    "name": "ipython",
    "version": 3
   },
   "file_extension": ".py",
   "mimetype": "text/x-python",
   "name": "python",
   "nbconvert_exporter": "python",
   "pygments_lexer": "ipython3",
   "version": "3.6.9"
  }
 },
 "nbformat": 4,
 "nbformat_minor": 2
}
