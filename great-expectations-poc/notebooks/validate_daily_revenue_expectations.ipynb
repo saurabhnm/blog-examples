{
 "cells": [
  {
   "cell_type": "code",
   "execution_count": 23,
   "metadata": {},
   "outputs": [],
   "source": [
    "import json\n",
    "import great_expectations as ge\n",
    "import pandas as pd\n",
    "from datetime import datetime"
   ]
  },
  {
   "cell_type": "code",
   "execution_count": 2,
   "metadata": {},
   "outputs": [
    {
     "name": "stdout",
     "output_type": "stream",
     "text": [
      "2019-12-28T15:59:23-0800 - INFO - Using project config: /Users/saurabh/Documents/Work/codebase/python_ws/ge_blog_project/great_expectations/great_expectations.yml\n"
     ]
    }
   ],
   "source": [
    "context = ge.data_context.DataContext()"
   ]
  },
  {
   "cell_type": "code",
   "execution_count": 3,
   "metadata": {},
   "outputs": [
    {
     "data": {
      "text/plain": [
       "NormalizedDataAssetName(datasource='dbt_analytics', generator='default', generator_asset='daily_revenue')"
      ]
     },
     "execution_count": 3,
     "metadata": {},
     "output_type": "execute_result"
    }
   ],
   "source": [
    "data_asset_name = \"daily_revenue\" # TODO: replace with your value!\n",
    "normalized_data_asset_name = context.normalize_data_asset_name(data_asset_name)\n",
    "normalized_data_asset_name"
   ]
  },
  {
   "cell_type": "code",
   "execution_count": 4,
   "metadata": {},
   "outputs": [],
   "source": [
    "expectation_suite_name = \"failure\" # TODO: replace with your value!"
   ]
  },
  {
   "cell_type": "code",
   "execution_count": 5,
   "metadata": {},
   "outputs": [
    {
     "data": {
      "text/plain": [
       "{'data_asset_name': 'dbt_analytics/default/daily_revenue',\n",
       " 'expectation_suite_name': 'failure',\n",
       " 'meta': {'great_expectations.__version__': '0.8.6'},\n",
       " 'expectations': [{'expectation_type': 'expect_column_values_to_not_be_null',\n",
       "   'kwargs': {'column': 'order_id'}},\n",
       "  {'expectation_type': 'expect_column_values_to_be_in_set',\n",
       "   'kwargs': {'column': 'order_type', 'value_set': ['online', 'retail']}},\n",
       "  {'expectation_type': 'expect_column_values_to_be_between',\n",
       "   'kwargs': {'column': 'order_revenue_usd',\n",
       "    'min_value': 1,\n",
       "    'max_value': 10000}}],\n",
       " 'data_asset_type': 'Dataset'}"
      ]
     },
     "execution_count": 5,
     "metadata": {},
     "output_type": "execute_result"
    }
   ],
   "source": [
    "context.get_expectation_suite(normalized_data_asset_name, expectation_suite_name)"
   ]
  },
  {
   "cell_type": "code",
   "execution_count": 6,
   "metadata": {},
   "outputs": [
    {
     "name": "stdout",
     "output_type": "stream",
     "text": [
      "2019-12-28T16:01:19-0800 - INFO - \t3 expectation(s) included in expectation_suite.\n"
     ]
    },
    {
     "data": {
      "text/html": [
       "<div>\n",
       "<style scoped>\n",
       "    .dataframe tbody tr th:only-of-type {\n",
       "        vertical-align: middle;\n",
       "    }\n",
       "\n",
       "    .dataframe tbody tr th {\n",
       "        vertical-align: top;\n",
       "    }\n",
       "\n",
       "    .dataframe thead th {\n",
       "        text-align: right;\n",
       "    }\n",
       "</style>\n",
       "<table border=\"1\" class=\"dataframe\">\n",
       "  <thead>\n",
       "    <tr style=\"text-align: right;\">\n",
       "      <th></th>\n",
       "      <th>order_id</th>\n",
       "      <th>user_id</th>\n",
       "      <th>order_revenue_usd</th>\n",
       "      <th>order_type</th>\n",
       "      <th>load_date</th>\n",
       "    </tr>\n",
       "  </thead>\n",
       "  <tbody>\n",
       "    <tr>\n",
       "      <th>0</th>\n",
       "      <td>201912013</td>\n",
       "      <td>1003</td>\n",
       "      <td>500</td>\n",
       "      <td>retail</td>\n",
       "      <td>2019-12-02</td>\n",
       "    </tr>\n",
       "    <tr>\n",
       "      <th>1</th>\n",
       "      <td>201912014</td>\n",
       "      <td>1004</td>\n",
       "      <td>0</td>\n",
       "      <td>zzz_corrupt_value_zzz</td>\n",
       "      <td>2019-12-02</td>\n",
       "    </tr>\n",
       "  </tbody>\n",
       "</table>\n",
       "</div>"
      ],
      "text/plain": [
       "    order_id  user_id  order_revenue_usd             order_type   load_date\n",
       "0  201912013     1003                500                 retail  2019-12-02\n",
       "1  201912014     1004                  0  zzz_corrupt_value_zzz  2019-12-02"
      ]
     },
     "execution_count": 6,
     "metadata": {},
     "output_type": "execute_result"
    }
   ],
   "source": [
    "batch_kwargs = {'query': \"SELECT * FROM daily_revenue WHERE load_date = '{}'\".format('2019-12-02')}\n",
    "batch = context.get_batch(normalized_data_asset_name, expectation_suite_name, batch_kwargs)\n",
    "batch.head()"
   ]
  },
  {
   "cell_type": "code",
   "execution_count": 10,
   "metadata": {},
   "outputs": [
    {
     "data": {
      "text/plain": [
       "'2019-12-29T000211.765938Z'"
      ]
     },
     "execution_count": 10,
     "metadata": {},
     "output_type": "execute_result"
    }
   ],
   "source": [
    "run_id = datetime.utcnow().isoformat().replace(\":\", \"\") + \"Z\"\n",
    "run_id"
   ]
  },
  {
   "cell_type": "code",
   "execution_count": 21,
   "metadata": {},
   "outputs": [
    {
     "name": "stdout",
     "output_type": "stream",
     "text": [
      "2019-12-28T16:12:47-0800 - INFO - \t3 expectation(s) included in expectation_suite.\n",
      "This data is not a valid batch of daily_revenue\n"
     ]
    }
   ],
   "source": [
    "validation_result = batch.validate(run_id=run_id)\n",
    "\n",
    "if validation_result[\"success\"]:\n",
    "    print(\"This data meets all expectations for {}\".format(str(data_asset_name)))\n",
    "else:\n",
    "    print(\"This data is not a valid batch of {}\".format(str(data_asset_name)))"
   ]
  },
  {
   "cell_type": "code",
   "execution_count": 15,
   "metadata": {},
   "outputs": [
    {
     "name": "stdout",
     "output_type": "stream",
     "text": [
      "{\n",
      "    \"results\": [\n",
      "        {\n",
      "            \"success\": true,\n",
      "            \"result\": {\n",
      "                \"element_count\": 2,\n",
      "                \"unexpected_count\": 0.0,\n",
      "                \"unexpected_percent\": 0.0,\n",
      "                \"partial_unexpected_list\": []\n",
      "            },\n",
      "            \"expectation_config\": {\n",
      "                \"expectation_type\": \"expect_column_values_to_not_be_null\",\n",
      "                \"kwargs\": {\n",
      "                    \"column\": \"order_id\"\n",
      "                }\n",
      "            },\n",
      "            \"exception_info\": {\n",
      "                \"raised_exception\": false,\n",
      "                \"exception_message\": null,\n",
      "                \"exception_traceback\": null\n",
      "            }\n",
      "        },\n",
      "        {\n",
      "            \"success\": false,\n",
      "            \"result\": {\n",
      "                \"element_count\": 2,\n",
      "                \"missing_count\": 0.0,\n",
      "                \"missing_percent\": 0.0,\n",
      "                \"unexpected_count\": 1.0,\n",
      "                \"unexpected_percent\": 50.0,\n",
      "                \"unexpected_percent_nonmissing\": 50.0,\n",
      "                \"partial_unexpected_list\": [\n",
      "                    \"zzz_corrupt_value_zzz\"\n",
      "                ]\n",
      "            },\n",
      "            \"expectation_config\": {\n",
      "                \"expectation_type\": \"expect_column_values_to_be_in_set\",\n",
      "                \"kwargs\": {\n",
      "                    \"column\": \"order_type\",\n",
      "                    \"value_set\": [\n",
      "                        \"online\",\n",
      "                        \"retail\"\n",
      "                    ]\n",
      "                }\n",
      "            },\n",
      "            \"exception_info\": {\n",
      "                \"raised_exception\": false,\n",
      "                \"exception_message\": null,\n",
      "                \"exception_traceback\": null\n",
      "            }\n",
      "        },\n",
      "        {\n",
      "            \"success\": false,\n",
      "            \"result\": {\n",
      "                \"element_count\": 2,\n",
      "                \"missing_count\": 0.0,\n",
      "                \"missing_percent\": 0.0,\n",
      "                \"unexpected_count\": 1.0,\n",
      "                \"unexpected_percent\": 50.0,\n",
      "                \"unexpected_percent_nonmissing\": 50.0,\n",
      "                \"partial_unexpected_list\": [\n",
      "                    0\n",
      "                ]\n",
      "            },\n",
      "            \"expectation_config\": {\n",
      "                \"expectation_type\": \"expect_column_values_to_be_between\",\n",
      "                \"kwargs\": {\n",
      "                    \"column\": \"order_revenue_usd\",\n",
      "                    \"min_value\": 1,\n",
      "                    \"max_value\": 10000\n",
      "                }\n",
      "            },\n",
      "            \"exception_info\": {\n",
      "                \"raised_exception\": false,\n",
      "                \"exception_message\": null,\n",
      "                \"exception_traceback\": null\n",
      "            }\n",
      "        }\n",
      "    ],\n",
      "    \"success\": false,\n",
      "    \"statistics\": {\n",
      "        \"evaluated_expectations\": 3,\n",
      "        \"successful_expectations\": 1,\n",
      "        \"unsuccessful_expectations\": 2,\n",
      "        \"success_percent\": 33.33333333333333\n",
      "    },\n",
      "    \"meta\": {\n",
      "        \"great_expectations.__version__\": \"0.8.6\",\n",
      "        \"data_asset_name\": \"dbt_analytics/default/daily_revenue\",\n",
      "        \"expectation_suite_name\": \"failure\",\n",
      "        \"run_id\": \"2019-12-29T000211.765938Z\",\n",
      "        \"batch_kwargs\": {\n",
      "            \"query\": \"SELECT * FROM daily_revenue WHERE load_date = '2019-12-02'\"\n",
      "        },\n",
      "        \"batch_id\": {\n",
      "            \"timestamp\": 1577577679.902497\n",
      "        }\n",
      "    }\n",
      "}\n"
     ]
    }
   ],
   "source": [
    "print(json.dumps(validation_result, indent=4))"
   ]
  },
  {
   "cell_type": "code",
   "execution_count": 22,
   "metadata": {},
   "outputs": [
    {
     "ename": "ValueError",
     "evalue": "This data is not a valid batch of daily_revenue",
     "output_type": "error",
     "traceback": [
      "\u001b[0;31m---------------------------------------------------------------------------\u001b[0m",
      "\u001b[0;31mValueError\u001b[0m                                Traceback (most recent call last)",
      "\u001b[0;32m<ipython-input-22-83d901817c6f>\u001b[0m in \u001b[0;36m<module>\u001b[0;34m\u001b[0m\n\u001b[1;32m      1\u001b[0m \u001b[0;32mif\u001b[0m \u001b[0;32mnot\u001b[0m \u001b[0mvalidation_result\u001b[0m\u001b[0;34m[\u001b[0m\u001b[0;34m\"success\"\u001b[0m\u001b[0;34m]\u001b[0m\u001b[0;34m:\u001b[0m\u001b[0;34m\u001b[0m\u001b[0;34m\u001b[0m\u001b[0m\n\u001b[0;32m----> 2\u001b[0;31m     \u001b[0;32mraise\u001b[0m \u001b[0mValueError\u001b[0m\u001b[0;34m(\u001b[0m\u001b[0;34m\"This data is not a valid batch of {}\"\u001b[0m\u001b[0;34m.\u001b[0m\u001b[0mformat\u001b[0m\u001b[0;34m(\u001b[0m\u001b[0mstr\u001b[0m\u001b[0;34m(\u001b[0m\u001b[0mdata_asset_name\u001b[0m\u001b[0;34m)\u001b[0m\u001b[0;34m)\u001b[0m\u001b[0;34m)\u001b[0m\u001b[0;34m\u001b[0m\u001b[0;34m\u001b[0m\u001b[0m\n\u001b[0m",
      "\u001b[0;31mValueError\u001b[0m: This data is not a valid batch of daily_revenue"
     ]
    }
   ],
   "source": [
    "if not validation_result[\"success\"]:\n",
    "    raise ValueError(\"This data is not a valid batch of {}\".format(str(data_asset_name)))"
   ]
  },
  {
   "cell_type": "code",
   "execution_count": 16,
   "metadata": {},
   "outputs": [],
   "source": [
    "#context.open_data_docs()"
   ]
  },
  {
   "cell_type": "code",
   "execution_count": 17,
   "metadata": {},
   "outputs": [
    {
     "data": {
      "text/plain": [
       "{'local_site': '/Users/saurabh/Documents/Work/codebase/python_ws/ge_blog_project/great_expectations/uncommitted/data_docs/local_site/index.html'}"
      ]
     },
     "execution_count": 17,
     "metadata": {},
     "output_type": "execute_result"
    }
   ],
   "source": [
    "#context.build_data_docs()"
   ]
  },
  {
   "cell_type": "code",
   "execution_count": 19,
   "metadata": {},
   "outputs": [
    {
     "name": "stdout",
     "output_type": "stream",
     "text": [
      "2019-12-28T16:06:47-0800 - INFO - \t3 expectation(s) included in expectation_suite.\n"
     ]
    }
   ],
   "source": [
    "# results = context.run_validation_operator(\n",
    "#     assets_to_validate=[batch],\n",
    "#     run_id=run_id,\n",
    "#     validation_operator_name=\"action_list_operator\",\n",
    "# )"
   ]
  },
  {
   "cell_type": "code",
   "execution_count": null,
   "metadata": {},
   "outputs": [],
   "source": []
  }
 ],
 "metadata": {
  "kernelspec": {
   "display_name": "Python 3",
   "language": "python",
   "name": "python3"
  },
  "language_info": {
   "codemirror_mode": {
    "name": "ipython",
    "version": 3
   },
   "file_extension": ".py",
   "mimetype": "text/x-python",
   "name": "python",
   "nbconvert_exporter": "python",
   "pygments_lexer": "ipython3",
   "version": "3.6.9"
  }
 },
 "nbformat": 4,
 "nbformat_minor": 2
}
